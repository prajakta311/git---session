{
  "nbformat": 4,
  "nbformat_minor": 0,
  "metadata": {
    "colab": {
      "provenance": [],
      "authorship_tag": "ABX9TyOp7C27TQo7yQEzGFQ5AdLP",
      "include_colab_link": true
    },
    "kernelspec": {
      "name": "python3",
      "display_name": "Python 3"
    },
    "language_info": {
      "name": "python"
    }
  },
  "cells": [
    {
      "cell_type": "markdown",
      "metadata": {
        "id": "view-in-github",
        "colab_type": "text"
      },
      "source": [
        "<a href=\"https://colab.research.google.com/github/prajakta311/git---session/blob/main/Fashion_MNIST.ipynb\" target=\"_parent\"><img src=\"https://colab.research.google.com/assets/colab-badge.svg\" alt=\"Open In Colab\"/></a>"
      ]
    },
    {
      "cell_type": "code",
      "execution_count": 1,
      "metadata": {
        "id": "KyRpuEkaJ9Wc"
      },
      "outputs": [],
      "source": [
        "#28x28 grey scale images\n",
        "import numpy as np\n",
        "import pandas as pd\n",
        "import matplotlib.pyplot as plt\n",
        "import tensorflow as tf"
      ]
    },
    {
      "cell_type": "code",
      "source": [
        "(x_train, y_train), (x_test, y_test) = tf.keras.datasets.fashion_mnist.load_data()  # Getting the dataset"
      ],
      "metadata": {
        "id": "eP41S0dlLYRt",
        "colab": {
          "base_uri": "https://localhost:8080/"
        },
        "outputId": "e44a956b-0a9c-4ca0-9592-9ef5a29fdbfc"
      },
      "execution_count": 2,
      "outputs": [
        {
          "output_type": "stream",
          "name": "stdout",
          "text": [
            "Downloading data from https://storage.googleapis.com/tensorflow/tf-keras-datasets/train-labels-idx1-ubyte.gz\n",
            "29515/29515 [==============================] - 0s 0us/step\n",
            "Downloading data from https://storage.googleapis.com/tensorflow/tf-keras-datasets/train-images-idx3-ubyte.gz\n",
            "26421880/26421880 [==============================] - 0s 0us/step\n",
            "Downloading data from https://storage.googleapis.com/tensorflow/tf-keras-datasets/t10k-labels-idx1-ubyte.gz\n",
            "5148/5148 [==============================] - 0s 0us/step\n",
            "Downloading data from https://storage.googleapis.com/tensorflow/tf-keras-datasets/t10k-images-idx3-ubyte.gz\n",
            "4422102/4422102 [==============================] - 0s 0us/step\n"
          ]
        }
      ]
    },
    {
      "cell_type": "code",
      "source": [
        "x_train.shape"
      ],
      "metadata": {
        "colab": {
          "base_uri": "https://localhost:8080/"
        },
        "id": "o6hsZlB1MXwZ",
        "outputId": "1f5568a7-f805-4a31-8a02-371b32c9e7c4"
      },
      "execution_count": 3,
      "outputs": [
        {
          "output_type": "execute_result",
          "data": {
            "text/plain": [
              "(60000, 28, 28)"
            ]
          },
          "metadata": {},
          "execution_count": 3
        }
      ]
    },
    {
      "cell_type": "code",
      "source": [
        "y_train.shape"
      ],
      "metadata": {
        "colab": {
          "base_uri": "https://localhost:8080/"
        },
        "id": "RXCipjhDMd-T",
        "outputId": "2d483027-73c7-42ae-db88-d934dde771dd"
      },
      "execution_count": 4,
      "outputs": [
        {
          "output_type": "execute_result",
          "data": {
            "text/plain": [
              "(60000,)"
            ]
          },
          "metadata": {},
          "execution_count": 4
        }
      ]
    },
    {
      "cell_type": "code",
      "source": [
        "y_train\n"
      ],
      "metadata": {
        "colab": {
          "base_uri": "https://localhost:8080/"
        },
        "id": "XVnuWNspMf6g",
        "outputId": "011b063b-63cf-4cfc-9db8-bcdf872627f3"
      },
      "execution_count": 5,
      "outputs": [
        {
          "output_type": "execute_result",
          "data": {
            "text/plain": [
              "array([9, 0, 0, ..., 3, 0, 5], dtype=uint8)"
            ]
          },
          "metadata": {},
          "execution_count": 5
        }
      ]
    },
    {
      "cell_type": "code",
      "source": [
        "x_test.shape, y_test.shape"
      ],
      "metadata": {
        "colab": {
          "base_uri": "https://localhost:8080/"
        },
        "id": "ipOsA1zBMkjU",
        "outputId": "82c28605-aa13-407d-adf4-30d30fad3c80"
      },
      "execution_count": 6,
      "outputs": [
        {
          "output_type": "execute_result",
          "data": {
            "text/plain": [
              "((10000, 28, 28), (10000,))"
            ]
          },
          "metadata": {},
          "execution_count": 6
        }
      ]
    },
    {
      "cell_type": "code",
      "source": [
        "label_encoder = {0: 'T-shirt/top',\n",
        "                 1: 'Trouser',\n",
        "                 2: 'Pullover',\n",
        "                 3: 'Dress',\n",
        "                 4: 'Coat',\n",
        "                 5: 'Scandal',\n",
        "                 6: 'Shirt',\n",
        "                 7: 'Sneaker',\n",
        "                 8: 'Bag',\n",
        "                 9: 'Ankle Boot'} #Giving label to our images by creating a dictionary"
      ],
      "metadata": {
        "id": "ZhUb1v2oN7y1"
      },
      "execution_count": 7,
      "outputs": []
    },
    {
      "cell_type": "code",
      "source": [
        "plt.figure(figsize=(8, 6))\n",
        "for i in range(1, 6):\n",
        " plt.subplot(1,5,i)  # 1 is how many number of rows you want, 5 is number of columns and i is for the images\n",
        " plt.imshow(x_train[i], cmap='gray')\n",
        " plt.title(label_encoder[y_train[i]])"
      ],
      "metadata": {
        "colab": {
          "base_uri": "https://localhost:8080/",
          "height": 189
        },
        "id": "sxI2_VWNMuuG",
        "outputId": "3077f07e-1eb9-4e34-913b-070287c486d6"
      },
      "execution_count": 8,
      "outputs": [
        {
          "output_type": "display_data",
          "data": {
            "text/plain": [
              "<Figure size 800x600 with 5 Axes>"
            ],
            "image/png": "[encoded data removed]"
          },
          "metadata": {}
        }
      ]
    },
    {
      "cell_type": "code",
      "source": [
        "# Plot 6 images for each category and images should be random everytime\n",
        "# Perform EDA"
      ],
      "metadata": {
        "id": "SL1K_n1qNDyH"
      },
      "execution_count": 9,
      "outputs": []
    },
    {
      "cell_type": "code",
      "source": [
        "# Pre Processing\n",
        "# Input\n",
        "x_train = x_train / 255.0  # Normalization\n",
        "\n",
        "#Output\n",
        "y_train = pd.get_dummies(y_train)\n"
      ],
      "metadata": {
        "id": "0gbbT0Oue-kI"
      },
      "execution_count": 10,
      "outputs": []
    },
    {
      "cell_type": "code",
      "source": [
        "x_train.shape, y_train.shape # There is a difference in ytrain, why? For each label. we have converted that into a big array of 10 digits"
      ],
      "metadata": {
        "colab": {
          "base_uri": "https://localhost:8080/"
        },
        "id": "svOACxCNitj1",
        "outputId": "b57fbc7a-1630-4584-bd7e-bb1202f95db4"
      },
      "execution_count": 11,
      "outputs": [
        {
          "output_type": "execute_result",
          "data": {
            "text/plain": [
              "((60000, 28, 28), (60000, 10))"
            ]
          },
          "metadata": {},
          "execution_count": 11
        }
      ]
    },
    {
      "cell_type": "code",
      "source": [
        "# Model, There are 2 types of model, sequential, functional.\n",
        "# Here we will use sequential one because we know that each layer is going to be connected to the previous one\n",
        "model = tf.keras.models.Sequential()\n",
        "# The first thing we do after building a model is adding layers\n",
        "# First Layer (Input)\n",
        "model.add(tf.keras.layers.Input((28, 28), name='InputLayer'))  # Because this is a sequential model we will add layers.\n",
        "# Then we ask keras to give us some layers, then we have to tell which layer we want (here we want a input layer).\n",
        "#Input layer asks for the shape of the image i.e. 28x28\n",
        "\n",
        "# Flattening the input. The image that we have added is a 2D image i.e. a height and a width. so we will have to flatten it\n",
        "model.add(tf.keras.layers.Flatten(name='Flatten'))\n",
        "\n",
        "# Hidden Layer\n",
        "model.add(tf.keras.layers.Dense(128, activation = tf.keras.activations.relu, name='HiddenLayer'))\n",
        "\n",
        "# What if the model cannot activate itself in 128 so we will just add the second layer, we don't know if it's needed or not\n",
        "model.add(tf.keras.layers.Dense(16, activation = tf.keras.activations.relu,name='HiddenLayer2'))   # You cannot add the second layer after the output\n",
        "# This is the sequence in which the layers will be added and the model will be built\n",
        "\n",
        "# Output Layers - Here we are using the shallow down technique we know that the images we have are not quite high quality so we will just shallow them down\n",
        "model.add(tf.keras.layers.Dense(10, activation = tf.keras.activations.softmax,name='Output'))\n",
        "model.summary()\n"
      ],
      "metadata": {
        "colab": {
          "base_uri": "https://localhost:8080/"
        },
        "id": "nMAbBiCPixKA",
        "outputId": "1e05f77f-a11f-4c8c-d9e0-cf5f34622e09"
      },
      "execution_count": 12,
      "outputs": [
        {
          "output_type": "stream",
          "name": "stdout",
          "text": [
            "Model: \"sequential\"\n",
            "_________________________________________________________________\n",
            " Layer (type)                Output Shape              Param #   \n",
            "=================================================================\n",
            " Flatten (Flatten)           (None, 784)               0         \n",
            "                                                                 \n",
            " HiddenLayer (Dense)         (None, 128)               100480    \n",
            "                                                                 \n",
            " HiddenLayer2 (Dense)        (None, 16)                2064      \n",
            "                                                                 \n",
            " Output (Dense)              (None, 10)                170       \n",
            "                                                                 \n",
            "=================================================================\n",
            "Total params: 102714 (401.23 KB)\n",
            "Trainable params: 102714 (401.23 KB)\n",
            "Non-trainable params: 0 (0.00 Byte)\n",
            "_________________________________________________________________\n"
          ]
        }
      ]
    },
    {
      "cell_type": "code",
      "source": [
        "# Here The reason we got 100480, then 2064, then 170 is\n",
        "print(784*128+ 128)\n",
        "print(128*16 + 16)\n",
        "print(16*10 + 10)\n"
      ],
      "metadata": {
        "colab": {
          "base_uri": "https://localhost:8080/"
        },
        "id": "W5KX-lL_ybr3",
        "outputId": "d78524ad-fede-409a-fd7e-9844755137f0"
      },
      "execution_count": 13,
      "outputs": [
        {
          "output_type": "stream",
          "name": "stdout",
          "text": [
            "100480\n",
            "2064\n",
            "170\n"
          ]
        }
      ]
    },
    {
      "cell_type": "code",
      "source": [
        "# We have completed the 1st part of the model that is creatinfg a feed forward network now, let's optimize it\n",
        "model.compile(optimizer=tf.keras.optimizers.SGD(),  # SGD is Stochastic Gradient Descent Model. Learning rate is bydefaulr set in SGD\n",
        "              loss=tf.keras.losses.categorical_crossentropy,  # This is a categorical problem because we have multiple categories\n",
        "# We want the model to learn, not just the correct things, but also to penalize that why are you identifying the wrong things\n",
        "              metrics = [\"accuracy\"])"
      ],
      "metadata": {
        "id": "18DTJ7Ql0ajy"
      },
      "execution_count": 14,
      "outputs": []
    },
    {
      "cell_type": "code",
      "source": [
        "model.fit(x_train, y_train, epochs=10, batch_size=64, validation_split=0.1)\n",
        "# 1 epoch is 1 data completely sent for Iteration, for batch size go to the 2 to the power n number\n",
        "# We don't have the validation data with us, we only have training data and testing data.\n",
        "# If we select only one image and send it for fitting the model, there will be noise. So, we send a batch of images.\n",
        "# So, the model learns continuously and slowly. In the pure stochastic Gradient we take a one image at a time.\n",
        "# So, we are telling keras to make sure that when we run the model 10% of the data goes into validation.\n",
        "# So, out of 60,000 now only 54,000 images will go for training and 1% that is 6,000 images will go for validation."
      ],
      "metadata": {
        "colab": {
          "base_uri": "https://localhost:8080/"
        },
        "id": "3AYSa8NO-lU0",
        "outputId": "59aa0422-615b-433b-fc1e-768d346cb508"
      },
      "execution_count": 15,
      "outputs": [
        {
          "output_type": "stream",
          "name": "stdout",
          "text": [
            "Epoch 1/10\n",
            "844/844 [==============================] - 5s 5ms/step - loss: 1.0043 - accuracy: 0.6840 - val_loss: 0.6452 - val_accuracy: 0.7790\n",
            "Epoch 2/10\n",
            "844/844 [==============================] - 5s 5ms/step - loss: 0.5901 - accuracy: 0.8007 - val_loss: 0.5293 - val_accuracy: 0.8232\n",
            "Epoch 3/10\n",
            "844/844 [==============================] - 6s 7ms/step - loss: 0.5193 - accuracy: 0.8229 - val_loss: 0.4969 - val_accuracy: 0.8242\n",
            "Epoch 4/10\n",
            "844/844 [==============================] - 6s 7ms/step - loss: 0.4841 - accuracy: 0.8337 - val_loss: 0.4777 - val_accuracy: 0.8317\n",
            "Epoch 5/10\n",
            "844/844 [==============================] - 5s 6ms/step - loss: 0.4614 - accuracy: 0.8405 - val_loss: 0.4686 - val_accuracy: 0.8363\n",
            "Epoch 6/10\n",
            "844/844 [==============================] - 4s 4ms/step - loss: 0.4441 - accuracy: 0.8448 - val_loss: 0.4637 - val_accuracy: 0.8402\n",
            "Epoch 7/10\n",
            "844/844 [==============================] - 3s 3ms/step - loss: 0.4306 - accuracy: 0.8516 - val_loss: 0.4332 - val_accuracy: 0.8490\n",
            "Epoch 8/10\n",
            "844/844 [==============================] - 3s 3ms/step - loss: 0.4194 - accuracy: 0.8544 - val_loss: 0.4284 - val_accuracy: 0.8502\n",
            "Epoch 9/10\n",
            "844/844 [==============================] - 3s 3ms/step - loss: 0.4092 - accuracy: 0.8572 - val_loss: 0.4252 - val_accuracy: 0.8488\n",
            "Epoch 10/10\n",
            "844/844 [==============================] - 4s 4ms/step - loss: 0.4008 - accuracy: 0.8597 - val_loss: 0.4043 - val_accuracy: 0.8578\n"
          ]
        },
        {
          "output_type": "execute_result",
          "data": {
            "text/plain": [
              "<keras.src.callbacks.History at 0x7c767aff5540>"
            ]
          },
          "metadata": {},
          "execution_count": 15
        }
      ]
    },
    {
      "cell_type": "code",
      "source": [
        "# The 844 is 54,000 divided by 64,000. It means there are 64,000 images out of which, 54 we are taking for training\n",
        "\n",
        "# 1 Epoch means the data has been feed forwaded, the error is calculated and the back propogation is done to entire Data that is 60,000 images.\n",
        "# Now, in single epoch we are running all the images. so, whay have we done 10 epochs, here?\n",
        "# e.g you are in 10th and you have 10 subjects. Will be able to understand all of them in 1 day? no, right. you will have to go daily to school to understand\n",
        "# So here also we don't understand about the images in 1 epoch so we take 10 we can take any number as 10 is a hyper parameter."
      ],
      "metadata": {
        "id": "xcXJuzu-AiDF"
      },
      "execution_count": 16,
      "outputs": []
    },
    {
      "cell_type": "code",
      "source": [
        "# The accuracy we got here that is 85 is not good. We will have to adjust the hyperparameter that are there in the hidden layer 1, 2. Or increase the epoch."
      ],
      "metadata": {
        "id": "wwf0C07NpeL9"
      },
      "execution_count": 17,
      "outputs": []
    },
    {
      "cell_type": "code",
      "source": [
        "# Saving the model\n",
        "model.save(\"fashion_mnist_model\")  # Saves into a folder file\n",
        "# It save 2 things, one is folder structureof this particular model and 2nd thing is weights and biases.\n",
        "# That is the optimizes weights and Biases."
      ],
      "metadata": {
        "id": "IO0-i_LVsAB2"
      },
      "execution_count": 18,
      "outputs": []
    },
    {
      "cell_type": "code",
      "source": [
        "model.get_weights  # Weights of the model"
      ],
      "metadata": {
        "colab": {
          "base_uri": "https://localhost:8080/",
          "height": 173
        },
        "id": "Bu45pICisPVG",
        "outputId": "5230d95a-af80-487f-aeb2-947f6efd0b72"
      },
      "execution_count": 19,
      "outputs": [
        {
          "output_type": "execute_result",
          "data": {
            "text/plain": [
              "<bound method Model.get_weights of <keras.src.engine.sequential.Sequential object at 0x7c7677aff880>>"
            ],
            "text/html": [
              "<div style=\"max-width:800px; border: 1px solid var(--colab-border-color);\"><style>\n",
              "      pre.function-repr-contents {\n",
              "        overflow-x: auto;\n",
              "        padding: 8px 12px;\n",
              "        max-height: 500px;\n",
              "      }\n",
              "\n",
              "      pre.function-repr-contents.function-repr-contents-collapsed {\n",
              "        cursor: pointer;\n",
              "        max-height: 100px;\n",
              "      }\n",
              "    </style>\n",
              "    <pre style=\"white-space: initial; background:\n",
              "         var(--colab-secondary-surface-color); padding: 8px 12px;\n",
              "         border-bottom: 1px solid var(--colab-border-color);\"><b>keras.src.engine.training.Model.get_weights</b><br/>def get_weights()</pre><pre class=\"function-repr-contents function-repr-contents-collapsed\" style=\"\"><a class=\"filepath\" style=\"display:none\" href=\"#\">/usr/local/lib/python3.10/dist-packages/keras/src/engine/training.py</a>Retrieves the weights of the model.\n",
              "\n",
              "Returns:\n",
              "    A flat list of Numpy arrays.</pre>\n",
              "      <script>\n",
              "      if (google.colab.kernel.accessAllowed && google.colab.files && google.colab.files.view) {\n",
              "        for (const element of document.querySelectorAll('.filepath')) {\n",
              "          element.style.display = 'block'\n",
              "          element.onclick = (event) => {\n",
              "            event.preventDefault();\n",
              "            event.stopPropagation();\n",
              "            google.colab.files.view(element.textContent, 3040);\n",
              "          };\n",
              "        }\n",
              "      }\n",
              "      for (const element of document.querySelectorAll('.function-repr-contents')) {\n",
              "        element.onclick = (event) => {\n",
              "          event.preventDefault();\n",
              "          event.stopPropagation();\n",
              "          element.classList.toggle('function-repr-contents-collapsed');\n",
              "        };\n",
              "      }\n",
              "      </script>\n",
              "      </div>"
            ]
          },
          "metadata": {},
          "execution_count": 19
        }
      ]
    },
    {
      "cell_type": "code",
      "source": [
        "model.to_json()  # Skeleton of the model"
      ],
      "metadata": {
        "colab": {
          "base_uri": "https://localhost:8080/",
          "height": 139
        },
        "id": "tcDOkRi7s6uH",
        "outputId": "635ee964-bd8b-4cac-819e-af2aaa090b56"
      },
      "execution_count": 20,
      "outputs": [
        {
          "output_type": "execute_result",
          "data": {
            "text/plain": [
              "'{\"class_name\": \"Sequential\", \"config\": {\"name\": \"sequential\", \"layers\": [{\"module\": \"keras.layers\", \"class_name\": \"InputLayer\", \"config\": {\"batch_input_shape\": [null, 28, 28], \"dtype\": \"float32\", \"sparse\": false, \"ragged\": false, \"name\": \"InputLayer\"}, \"registered_name\": null}, {\"module\": \"keras.layers\", \"class_name\": \"Flatten\", \"config\": {\"name\": \"Flatten\", \"trainable\": true, \"dtype\": \"float32\", \"data_format\": \"channels_last\"}, \"registered_name\": null, \"build_config\": {\"input_shape\": [null, 28, 28]}}, {\"module\": \"keras.layers\", \"class_name\": \"Dense\", \"config\": {\"name\": \"HiddenLayer\", \"trainable\": true, \"dtype\": \"float32\", \"units\": 128, \"activation\": \"relu\", \"use_bias\": true, \"kernel_initializer\": {\"module\": \"keras.initializers\", \"class_name\": \"GlorotUniform\", \"config\": {\"seed\": null}, \"registered_name\": null}, \"bias_initializer\": {\"module\": \"keras.initializers\", \"class_name\": \"Zeros\", \"config\": {}, \"registered_name\": null}, \"kernel_regularizer\": null, \"bias_regularizer\": null, \"activity_regularizer\": null, \"kernel_constraint\": null, \"bias_constraint\": null}, \"registered_name\": null, \"build_config\": {\"input_shape\": [null, 784]}}, {\"module\": \"keras.layers\", \"class_name\": \"Dense\", \"config\": {\"name\": \"HiddenLayer2\", \"trainable\": true, \"dtype\": \"float32\", \"units\": 16, \"activation\": \"relu\", \"use_bias\": true, \"kernel_initializer\": {\"module\": \"keras.initializers\", \"class_name\": \"GlorotUniform\", \"config\": {\"seed\": null}, \"registered_name\": null}, \"bias_initializer\": {\"module\": \"keras.initializers\", \"class_name\": \"Zeros\", \"config\": {}, \"registered_name\": null}, \"kernel_regularizer\": null, \"bias_regularizer\": null, \"activity_regularizer\": null, \"kernel_constraint\": null, \"bias_constraint\": null}, \"registered_name\": null, \"build_config\": {\"input_shape\": [null, 128]}}, {\"module\": \"keras.layers\", \"class_name\": \"Dense\", \"config\": {\"name\": \"Output\", \"trainable\": true, \"dtype\": \"float32\", \"units\": 10, \"activation\": \"softmax\", \"use_bias\": true, \"kernel_initializer\": {\"module\": \"keras.initializers\", \"class_name\": \"GlorotUniform\", \"config\": {\"seed\": null}, \"registered_name\": null}, \"bias_initializer\": {\"module\": \"keras.initializers\", \"class_name\": \"Zeros\", \"config\": {}, \"registered_name\": null}, \"kernel_regularizer\": null, \"bias_regularizer\": null, \"activity_regularizer\": null, \"kernel_constraint\": null, \"bias_constraint\": null}, \"registered_name\": null, \"build_config\": {\"input_shape\": [null, 16]}}]}, \"keras_version\": \"2.15.0\", \"backend\": \"tensorflow\"}'"
            ],
            "application/vnd.google.colaboratory.intrinsic+json": {
              "type": "string"
            }
          },
          "metadata": {},
          "execution_count": 20
        }
      ]
    },
    {
      "cell_type": "code",
      "source": [
        "# If you only save weights they get saved in the H5 format\n",
        "# But don't need to do this as keras has brought something new where you don't need to save it seperately. model.save and saves the structure"
      ],
      "metadata": {
        "id": "g3hYsQgqs_km"
      },
      "execution_count": 21,
      "outputs": []
    },
    {
      "cell_type": "code",
      "source": [
        "# After saving the model, we will do the predictions\n",
        "# model.predict()  # We can't remember what input we gave so we will ask"
      ],
      "metadata": {
        "id": "Z3jvb3kTufMC"
      },
      "execution_count": 45,
      "outputs": []
    },
    {
      "cell_type": "code",
      "source": [
        "model.input_shape"
      ],
      "metadata": {
        "colab": {
          "base_uri": "https://localhost:8080/"
        },
        "id": "aV2azJyBu1-o",
        "outputId": "2de77b25-01f4-4328-aedb-e4267ca75cd5"
      },
      "execution_count": 23,
      "outputs": [
        {
          "output_type": "execute_result",
          "data": {
            "text/plain": [
              "(None, 28, 28)"
            ]
          },
          "metadata": {},
          "execution_count": 23
        }
      ]
    },
    {
      "cell_type": "code",
      "source": [
        "# 'None' over here is it is because the model does not know how many images will be coming.\n",
        "# Will the be 60,000 images 1 mage it does not know so it adds none."
      ],
      "metadata": {
        "id": "aLdUwaINu6OJ"
      },
      "execution_count": 25,
      "outputs": []
    },
    {
      "cell_type": "code",
      "source": [
        "test_image = x_test[0]\n",
        "plt.imshow(test_image, cmap='gray')\n",
        "plt.title(label_encoder[y_test[0]])"
      ],
      "metadata": {
        "colab": {
          "base_uri": "https://localhost:8080/",
          "height": 469
        },
        "id": "lHC8tdIwveFE",
        "outputId": "3030066f-6833-4541-ab52-4bdabfd0b3e0"
      },
      "execution_count": 27,
      "outputs": [
        {
          "output_type": "execute_result",
          "data": {
            "text/plain": [
              "Text(0.5, 1.0, 'Ankle Boot')"
            ]
          },
          "metadata": {},
          "execution_count": 27
        },
        {
          "output_type": "display_data",
          "data": {
            "text/plain": [
              "<Figure size 640x480 with 1 Axes>"
            ],
            "image/png": "[encoded data removed]"
          },
          "metadata": {}
        }
      ]
    },
    {
      "cell_type": "code",
      "source": [
        "# The image we see here is not normalized, whereas the images our model was trained on was were normalized images."
      ],
      "metadata": {
        "id": "kLf6U8nHv23b"
      },
      "execution_count": 28,
      "outputs": []
    },
    {
      "cell_type": "code",
      "source": [
        "# Read image\n",
        "test_image = x_test[0]\n",
        "# Normalize the image\n",
        "# Need to normalize is that the model is trained on normalized images, so it will perform only on normalized images\n",
        "test_image = test_image / 255.0  # This will give us the output(28, 28), whereas our model wants the shape to be(1, 28, 28)\n",
        "# Need to introduce a new dimension\n",
        "print(f'Before np.expand, {test_image.shape}')\n",
        "test_image = np.expand_dims(test_image, axis=0)\n",
        "# Expand dimension helps you put up a new dimension, we mention here axis=0 so it adds the dimension at the very beginnibg\n",
        "print(f'After np.expand, {test_image.shape}')"
      ],
      "metadata": {
        "colab": {
          "base_uri": "https://localhost:8080/"
        },
        "id": "RWfk6XuKwMw3",
        "outputId": "08d4399f-b826-451d-e3bc-c9462a74dc63"
      },
      "execution_count": 29,
      "outputs": [
        {
          "output_type": "stream",
          "name": "stdout",
          "text": [
            "Before np.expand, (28, 28)\n",
            "After np.expand, (1, 28, 28)\n"
          ]
        }
      ]
    },
    {
      "cell_type": "code",
      "source": [
        "result = model.predict(test_image)  # This is the result of the softmax thet we have put in the last step\n",
        "# Why did we put softmax, so that it will give us 10 different probabilities of all the things\n",
        "result"
      ],
      "metadata": {
        "colab": {
          "base_uri": "https://localhost:8080/"
        },
        "id": "-0B_eJoowhU2",
        "outputId": "7c4df7cc-9f6e-4054-f170-76c103f1f971"
      },
      "execution_count": 30,
      "outputs": [
        {
          "output_type": "stream",
          "name": "stdout",
          "text": [
            "1/1 [==============================] - 0s 357ms/step\n"
          ]
        },
        {
          "output_type": "execute_result",
          "data": {
            "text/plain": [
              "array([[1.98336129e-05, 8.19309716e-05, 1.17369433e-04, 9.40452010e-05,\n",
              "        2.06986397e-06, 1.11409396e-01, 4.15995892e-05, 2.49022886e-01,\n",
              "        7.84706976e-03, 6.31363809e-01]], dtype=float32)"
            ]
          },
          "metadata": {},
          "execution_count": 30
        }
      ]
    },
    {
      "cell_type": "code",
      "source": [
        "result.sum()"
      ],
      "metadata": {
        "colab": {
          "base_uri": "https://localhost:8080/"
        },
        "id": "eRiekWzRoiwt",
        "outputId": "864f10e0-b9bb-41d3-8613-aee6e2f3eaa2"
      },
      "execution_count": 33,
      "outputs": [
        {
          "output_type": "execute_result",
          "data": {
            "text/plain": [
              "1.0"
            ]
          },
          "metadata": {},
          "execution_count": 33
        }
      ]
    },
    {
      "cell_type": "code",
      "source": [
        "print(f\"Probability: {np.max(result)}\")\n",
        "print(f\"Index:{np.argmax(result)}\")  # Argmax gives you the position where the value is maximum"
      ],
      "metadata": {
        "colab": {
          "base_uri": "https://localhost:8080/"
        },
        "id": "2yySrKZJxxX6",
        "outputId": "0de15159-3102-4d37-b27a-cd2dad56a838"
      },
      "execution_count": 31,
      "outputs": [
        {
          "output_type": "stream",
          "name": "stdout",
          "text": [
            "Probability: 0.6313638091087341\n",
            "Index:9\n"
          ]
        }
      ]
    },
    {
      "cell_type": "code",
      "source": [
        "label_encoder[9]"
      ],
      "metadata": {
        "colab": {
          "base_uri": "https://localhost:8080/",
          "height": 35
        },
        "id": "7rzyc_XmoXe5",
        "outputId": "2d3c74a7-c0a3-4a46-9f63-4b2b327347f7"
      },
      "execution_count": 32,
      "outputs": [
        {
          "output_type": "execute_result",
          "data": {
            "text/plain": [
              "'Ankle Boot'"
            ],
            "application/vnd.google.colaboratory.intrinsic+json": {
              "type": "string"
            }
          },
          "metadata": {},
          "execution_count": 32
        }
      ]
    },
    {
      "cell_type": "code",
      "source": [
        "def predict(image):\n",
        "  plt.imshow(image, cmap=\"gray\")\n",
        "  image = image/255.0\n",
        "  image = np.expand_dims(image, axis=0)\n",
        "  result = model.predict(image)\n",
        "  prob = np.max(result)\n",
        "  result = np.argmax(result)\n",
        "  plt.title(label_encoder[result])\n",
        "  return label_encoder[result], prob"
      ],
      "metadata": {
        "id": "bXVd2Zg-ob6L"
      },
      "execution_count": 72,
      "outputs": []
    },
    {
      "cell_type": "code",
      "source": [
        "predict(x_test[100])"
      ],
      "metadata": {
        "colab": {
          "base_uri": "https://localhost:8080/",
          "height": 487
        },
        "id": "MCHR4v5zpJsm",
        "outputId": "4a6e1501-62ed-4aa4-bb38-48ad0482ecc9"
      },
      "execution_count": 73,
      "outputs": [
        {
          "output_type": "stream",
          "name": "stdout",
          "text": [
            "1/1 [==============================] - 0s 22ms/step\n"
          ]
        },
        {
          "output_type": "execute_result",
          "data": {
            "text/plain": [
              "('Dress', 0.9931768)"
            ]
          },
          "metadata": {},
          "execution_count": 73
        },
        {
          "output_type": "display_data",
          "data": {
            "text/plain": [
              "<Figure size 640x480 with 1 Axes>"
            ],
            "image/png": "[encoded data removed]"
          },
          "metadata": {}
        }
      ]
    },
    {
      "cell_type": "code",
      "source": [
        "test_5_images = x_test[0:5]"
      ],
      "metadata": {
        "id": "7Pu0u4RApOer"
      },
      "execution_count": 39,
      "outputs": []
    },
    {
      "cell_type": "code",
      "source": [
        "# The enumerate() function is useful for situations where you need to keep track of both the index and the value of each element in a sequence.\n",
        "# For example, you might use enumerate() to iterate over a list of items and print the index and value of each item to the console.\n",
        "\n",
        "for index, i in enumerate(test_5_images):\n",
        "  plt.subplot(1, 5,index+1)\n",
        "  plt.imshow(i, cmap = 'gray')"
      ],
      "metadata": {
        "colab": {
          "base_uri": "https://localhost:8080/",
          "height": 150
        },
        "id": "8AkS6YlQq8SL",
        "outputId": "fc3f9324-fb49-4c98-d8b5-1d8a91bbe589"
      },
      "execution_count": 41,
      "outputs": [
        {
          "output_type": "display_data",
          "data": {
            "text/plain": [
              "<Figure size 640x480 with 5 Axes>"
            ],
            "image/png": "[encoded data removed]"
          },
          "metadata": {}
        }
      ]
    },
    {
      "cell_type": "code",
      "source": [
        "test_5_images = test_5_images/255.0    # Normalizing the 5 images\n",
        "print(test_5_images.shape)"
      ],
      "metadata": {
        "id": "PBChQaKBs_b8",
        "colab": {
          "base_uri": "https://localhost:8080/"
        },
        "outputId": "edfcf900-58ca-405a-b06c-b17e70d15dbd"
      },
      "execution_count": 42,
      "outputs": [
        {
          "output_type": "stream",
          "name": "stdout",
          "text": [
            "(5, 28, 28)\n"
          ]
        }
      ]
    },
    {
      "cell_type": "code",
      "source": [
        "result = model.predict(test_5_images)\n",
        "result\n",
        "# We will have a very big array, for all the 5 images, we will have the 10, 10 probabilities"
      ],
      "metadata": {
        "colab": {
          "base_uri": "https://localhost:8080/"
        },
        "id": "wxlywwhokXXF",
        "outputId": "db34d5b4-8209-4f3b-d05f-b5cf0bfb15ea"
      },
      "execution_count": 43,
      "outputs": [
        {
          "output_type": "stream",
          "name": "stdout",
          "text": [
            "1/1 [==============================] - 0s 34ms/step\n"
          ]
        },
        {
          "output_type": "execute_result",
          "data": {
            "text/plain": [
              "array([[1.98336002e-05, 8.19310008e-05, 1.17369462e-04, 9.40451355e-05,\n",
              "        2.06986442e-06, 1.11409262e-01, 4.15995601e-05, 2.49022841e-01,\n",
              "        7.84707256e-03, 6.31363988e-01],\n",
              "       [1.62825745e-05, 3.56619694e-06, 9.78196383e-01, 4.10530583e-06,\n",
              "        9.16548911e-03, 1.10504807e-10, 1.26004452e-02, 1.87848999e-12,\n",
              "        1.37173847e-05, 1.02369824e-09],\n",
              "       [1.08414069e-05, 9.99896646e-01, 1.15029179e-05, 4.20620418e-05,\n",
              "        3.88774388e-05, 1.07210116e-10, 1.73703008e-08, 1.95141290e-08,\n",
              "        3.55809382e-09, 1.23057875e-08],\n",
              "       [1.80350457e-06, 9.99758542e-01, 1.44591741e-05, 2.11237901e-04,\n",
              "        1.37245734e-05, 6.63110067e-10, 1.53958570e-08, 9.71268008e-08,\n",
              "        2.14938667e-09, 1.33932517e-07],\n",
              "       [1.31702185e-01, 2.00835872e-03, 2.04667270e-01, 1.36570828e-02,\n",
              "        2.19516512e-02, 4.48260871e-05, 6.21603668e-01, 2.07105586e-06,\n",
              "        4.32049343e-03, 4.23772362e-05]], dtype=float32)"
            ]
          },
          "metadata": {},
          "execution_count": 43
        }
      ]
    },
    {
      "cell_type": "code",
      "source": [
        "np.argmax(result, axis = 1)"
      ],
      "metadata": {
        "colab": {
          "base_uri": "https://localhost:8080/"
        },
        "id": "PBGaC6V1khdf",
        "outputId": "5af62fb4-d3d8-4ef1-d516-9788237e98ac"
      },
      "execution_count": 44,
      "outputs": [
        {
          "output_type": "execute_result",
          "data": {
            "text/plain": [
              "array([9, 2, 1, 1, 6])"
            ]
          },
          "metadata": {},
          "execution_count": 44
        }
      ]
    },
    {
      "cell_type": "code",
      "source": [
        "y_test[0:5]"
      ],
      "metadata": {
        "colab": {
          "base_uri": "https://localhost:8080/"
        },
        "id": "QzoMOaRDk1vT",
        "outputId": "a24ed689-e82d-4805-b4ca-3ddbaa3db51f"
      },
      "execution_count": 46,
      "outputs": [
        {
          "output_type": "execute_result",
          "data": {
            "text/plain": [
              "array([9, 2, 1, 1, 6], dtype=uint8)"
            ]
          },
          "metadata": {},
          "execution_count": 46
        }
      ]
    },
    {
      "cell_type": "markdown",
      "source": [
        "Great accuracy here all the answers found correctly!"
      ],
      "metadata": {
        "id": "CRtweZ5DleXm"
      }
    },
    {
      "cell_type": "code",
      "source": [
        "x_test_normalized = x_test/255.0   # Taking the entire dataset"
      ],
      "metadata": {
        "id": "L4fpI77bljiw"
      },
      "execution_count": 47,
      "outputs": []
    },
    {
      "cell_type": "code",
      "source": [
        "y_pred = np.argmax(model.predict(x_test_normalized), axis = 1)  # Model. predict would have just given us the probabilities so did argmax\n",
        "# The numpy.argmax() function in Python returns the indices of the maximum values along an axis.\n",
        "# It's often used in machine learning to find the class with the largest predicted probability."
      ],
      "metadata": {
        "colab": {
          "base_uri": "https://localhost:8080/"
        },
        "id": "Ex3u9v8Wn99O",
        "outputId": "2d49c61a-4c56-403b-cd39-0b824b5c8470"
      },
      "execution_count": 48,
      "outputs": [
        {
          "output_type": "stream",
          "name": "stdout",
          "text": [
            "313/313 [==============================] - 1s 3ms/step\n"
          ]
        }
      ]
    },
    {
      "cell_type": "code",
      "source": [
        "y_pred"
      ],
      "metadata": {
        "colab": {
          "base_uri": "https://localhost:8080/"
        },
        "id": "1JVLATvYocF7",
        "outputId": "b2bd9f8b-30e9-4699-fd27-6d2bf080b24f"
      },
      "execution_count": 49,
      "outputs": [
        {
          "output_type": "execute_result",
          "data": {
            "text/plain": [
              "array([9, 2, 1, ..., 8, 1, 5])"
            ]
          },
          "metadata": {},
          "execution_count": 49
        }
      ]
    },
    {
      "cell_type": "code",
      "source": [
        "y_test"
      ],
      "metadata": {
        "colab": {
          "base_uri": "https://localhost:8080/"
        },
        "id": "9ntBmA6poejM",
        "outputId": "271f616e-463c-4586-aab2-f05e6e5e290e"
      },
      "execution_count": 50,
      "outputs": [
        {
          "output_type": "execute_result",
          "data": {
            "text/plain": [
              "array([9, 2, 1, ..., 8, 1, 5], dtype=uint8)"
            ]
          },
          "metadata": {},
          "execution_count": 50
        }
      ]
    },
    {
      "cell_type": "code",
      "source": [
        "y_pred == y_test"
      ],
      "metadata": {
        "colab": {
          "base_uri": "https://localhost:8080/"
        },
        "id": "7DQcD5j2ogh3",
        "outputId": "b7e04408-c467-40c4-9a5a-7329e9d58eab"
      },
      "execution_count": 51,
      "outputs": [
        {
          "output_type": "execute_result",
          "data": {
            "text/plain": [
              "array([ True,  True,  True, ...,  True,  True,  True])"
            ]
          },
          "metadata": {},
          "execution_count": 51
        }
      ]
    },
    {
      "cell_type": "code",
      "source": [
        "(y_pred == y_test).sum()"
      ],
      "metadata": {
        "colab": {
          "base_uri": "https://localhost:8080/"
        },
        "id": "P0Zl58mCoqzp",
        "outputId": "5c9d6174-6c0b-43a8-d736-018e7528c987"
      },
      "execution_count": 53,
      "outputs": [
        {
          "output_type": "execute_result",
          "data": {
            "text/plain": [
              "8470"
            ]
          },
          "metadata": {},
          "execution_count": 53
        }
      ]
    },
    {
      "cell_type": "code",
      "source": [
        "# Only 8470/10,000 times the prediction is correct\n",
        "\n",
        "# Now to get to know which images failed the prediction\n",
        "\n",
        "np.where(y_pred != y_test)  #this will return indexes of the images, where prediction is not actual i.e. y_test"
      ],
      "metadata": {
        "colab": {
          "base_uri": "https://localhost:8080/"
        },
        "id": "CK6InK8Powoe",
        "outputId": "948d86c5-b190-4668-f432-fe7bbd02ab5a"
      },
      "execution_count": 54,
      "outputs": [
        {
          "output_type": "execute_result",
          "data": {
            "text/plain": [
              "(array([  12,   17,   21, ..., 9977, 9979, 9985]),)"
            ]
          },
          "metadata": {},
          "execution_count": 54
        }
      ]
    },
    {
      "cell_type": "code",
      "source": [
        "print(f\"Actual Label: {label_encoder[y_test[12]]}\")\n",
        "print(f\"Predicted Label: {label_encoder[y_pred[12]]}\")\n",
        "plt.imshow(x_test[12], cmap = 'gray')\n",
        "plt.show()"
      ],
      "metadata": {
        "colab": {
          "base_uri": "https://localhost:8080/",
          "height": 465
        },
        "id": "prbx6lvpp6ac",
        "outputId": "acfb22a4-5d0d-4aaf-e5f7-6ee857cbc023"
      },
      "execution_count": 56,
      "outputs": [
        {
          "output_type": "stream",
          "name": "stdout",
          "text": [
            "Actual Label: Sneaker\n",
            "Predicted Label: Scandal\n"
          ]
        },
        {
          "output_type": "display_data",
          "data": {
            "text/plain": [
              "<Figure size 640x480 with 1 Axes>"
            ],
            "image/png": "[encoded data removed]"
          },
          "metadata": {}
        }
      ]
    },
    {
      "cell_type": "code",
      "source": [
        "print(f\"Actual Label: {label_encoder[y_test[17]]}\")\n",
        "print(f\"Predicted Label: {label_encoder[y_pred[17]]}\")\n",
        "plt.imshow(x_test[17], cmap = 'gray')\n",
        "plt.show()"
      ],
      "metadata": {
        "colab": {
          "base_uri": "https://localhost:8080/",
          "height": 465
        },
        "id": "xa9hM4gRquQF",
        "outputId": "3d43bc6f-6456-4518-da9f-8b96093b56e7"
      },
      "execution_count": 58,
      "outputs": [
        {
          "output_type": "stream",
          "name": "stdout",
          "text": [
            "Actual Label: Coat\n",
            "Predicted Label: Pullover\n"
          ]
        },
        {
          "output_type": "display_data",
          "data": {
            "text/plain": [
              "<Figure size 640x480 with 1 Axes>"
            ],
            "image/png": "[encoded data removed]"
          },
          "metadata": {}
        }
      ]
    },
    {
      "cell_type": "code",
      "source": [
        "print(f\"Actual Label: {label_encoder[y_test[9977]]}\")\n",
        "print(f\"Predicted Label: {label_encoder[y_pred[9977]]}\")\n",
        "plt.imshow(x_test[9977], cmap = 'gray')\n",
        "plt.show()"
      ],
      "metadata": {
        "colab": {
          "base_uri": "https://localhost:8080/",
          "height": 465
        },
        "id": "ERLczakqq_yi",
        "outputId": "67398f58-e045-4379-c531-190b16dccaa6"
      },
      "execution_count": 59,
      "outputs": [
        {
          "output_type": "stream",
          "name": "stdout",
          "text": [
            "Actual Label: Shirt\n",
            "Predicted Label: T-shirt/top\n"
          ]
        },
        {
          "output_type": "display_data",
          "data": {
            "text/plain": [
              "<Figure size 640x480 with 1 Axes>"
            ],
            "image/png": "[encoded data removed]"
          },
          "metadata": {}
        }
      ]
    },
    {
      "cell_type": "code",
      "source": [
        "import sklearn"
      ],
      "metadata": {
        "id": "UKh3PhaorOln"
      },
      "execution_count": 64,
      "outputs": []
    },
    {
      "cell_type": "code",
      "source": [
        "from sklearn.metrics import confusion_matrix"
      ],
      "metadata": {
        "id": "NVSLFRzDswgs"
      },
      "execution_count": 65,
      "outputs": []
    },
    {
      "cell_type": "code",
      "source": [
        "list(label_encoder.values())"
      ],
      "metadata": {
        "colab": {
          "base_uri": "https://localhost:8080/"
        },
        "id": "Vib1Oa4Grik5",
        "outputId": "ddb29461-44c7-49f8-af1e-b54a212a6444"
      },
      "execution_count": 61,
      "outputs": [
        {
          "output_type": "execute_result",
          "data": {
            "text/plain": [
              "['T-shirt/top',\n",
              " 'Trouser',\n",
              " 'Pullover',\n",
              " 'Dress',\n",
              " 'Coat',\n",
              " 'Scandal',\n",
              " 'Shirt',\n",
              " 'Sneaker',\n",
              " 'Bag',\n",
              " 'Ankle Boot']"
            ]
          },
          "metadata": {},
          "execution_count": 61
        }
      ]
    },
    {
      "cell_type": "code",
      "source": [
        "cm = confusion_matrix(y_test, y_pred, labels=[0,1,2,3,4,5,6,7,8,9])\n",
        "cm"
      ],
      "metadata": {
        "colab": {
          "base_uri": "https://localhost:8080/"
        },
        "id": "hh7Jwrz5squ9",
        "outputId": "9dd84081-19b3-4bc6-97bb-e1fe25344e92"
      },
      "execution_count": 74,
      "outputs": [
        {
          "output_type": "execute_result",
          "data": {
            "text/plain": [
              "array([[801,   2,  16,  69,   7,   5,  86,   0,  14,   0],\n",
              "       [  2, 953,   5,  32,   5,   0,   2,   0,   1,   0],\n",
              "       [ 18,   4, 776,  14, 126,   1,  52,   0,   9,   0],\n",
              "       [ 18,  10,  11, 897,  31,   1,  26,   0,   6,   0],\n",
              "       [  0,   1, 118,  41, 761,   0,  72,   0,   7,   0],\n",
              "       [  0,   0,   0,   1,   0, 926,   0,  51,   4,  18],\n",
              "       [134,   2, 124,  63, 106,   1, 539,   0,  31,   0],\n",
              "       [  0,   0,   0,   0,   0,  34,   0, 929,   0,  37],\n",
              "       [  0,   1,  10,  10,   4,   6,  12,   5, 952,   0],\n",
              "       [  0,   0,   0,   0,   0,  13,   0,  50,   1, 936]])"
            ]
          },
          "metadata": {},
          "execution_count": 74
        }
      ]
    },
    {
      "cell_type": "code",
      "source": [
        "# from sklearn.metrics(y_test, y_pred, list(label_encoder.values()))  # This is a way to do the confusion matrix but here we have array and we cannot label array.\n",
        "\n",
        "import seaborn as sns\n",
        "sns.heatmap(confusion_matrix(y_test, y_pred), annot=True, cmap ='Reds')"
      ],
      "metadata": {
        "colab": {
          "base_uri": "https://localhost:8080/",
          "height": 447
        },
        "id": "gX-9XMb3rTd7",
        "outputId": "794e825d-fcb0-4e9c-e2f8-bc6130669308"
      },
      "execution_count": 71,
      "outputs": [
        {
          "output_type": "execute_result",
          "data": {
            "text/plain": [
              "<Axes: >"
            ]
          },
          "metadata": {},
          "execution_count": 71
        },
        {
          "output_type": "display_data",
          "data": {
            "text/plain": [
              "<Figure size 640x480 with 2 Axes>"
            ],
            "image/png": "[encoded data removed]"
          },
          "metadata": {}
        }
      ]
    },
    {
      "cell_type": "code",
      "source": [
        "pd.DataFrame(cm)"
      ],
      "metadata": {
        "colab": {
          "base_uri": "https://localhost:8080/",
          "height": 363
        },
        "id": "ARWaOLMRsi_4",
        "outputId": "3b27f6c4-977a-4d9e-f1ce-c5b47200918b"
      },
      "execution_count": 75,
      "outputs": [
        {
          "output_type": "execute_result",
          "data": {
            "text/plain": [
              "     0    1    2    3    4    5    6    7    8    9\n",
              "0  801    2   16   69    7    5   86    0   14    0\n",
              "1    2  953    5   32    5    0    2    0    1    0\n",
              "2   18    4  776   14  126    1   52    0    9    0\n",
              "3   18   10   11  897   31    1   26    0    6    0\n",
              "4    0    1  118   41  761    0   72    0    7    0\n",
              "5    0    0    0    1    0  926    0   51    4   18\n",
              "6  134    2  124   63  106    1  539    0   31    0\n",
              "7    0    0    0    0    0   34    0  929    0   37\n",
              "8    0    1   10   10    4    6   12    5  952    0\n",
              "9    0    0    0    0    0   13    0   50    1  936"
            ],
            "text/html": [
              "\n",
              "  <div id=\"df-3c10981d-0650-40c2-9c1b-4509ff0e7f0e\" class=\"colab-df-container\">\n",
              "    <div>\n",
              "<style scoped>\n",
              "    .dataframe tbody tr th:only-of-type {\n",
              "        vertical-align: middle;\n",
              "    }\n",
              "\n",
              "    .dataframe tbody tr th {\n",
              "        vertical-align: top;\n",
              "    }\n",
              "\n",
              "    .dataframe thead th {\n",
              "        text-align: right;\n",
              "    }\n",
              "</style>\n",
              "<table border=\"1\" class=\"dataframe\">\n",
              "  <thead>\n",
              "    <tr style=\"text-align: right;\">\n",
              "      <th></th>\n",
              "      <th>0</th>\n",
              "      <th>1</th>\n",
              "      <th>2</th>\n",
              "      <th>3</th>\n",
              "      <th>4</th>\n",
              "      <th>5</th>\n",
              "      <th>6</th>\n",
              "      <th>7</th>\n",
              "      <th>8</th>\n",
              "      <th>9</th>\n",
              "    </tr>\n",
              "  </thead>\n",
              "  <tbody>\n",
              "    <tr>\n",
              "      <th>0</th>\n",
              "      <td>801</td>\n",
              "      <td>2</td>\n",
              "      <td>16</td>\n",
              "      <td>69</td>\n",
              "      <td>7</td>\n",
              "      <td>5</td>\n",
              "      <td>86</td>\n",
              "      <td>0</td>\n",
              "      <td>14</td>\n",
              "      <td>0</td>\n",
              "    </tr>\n",
              "    <tr>\n",
              "      <th>1</th>\n",
              "      <td>2</td>\n",
              "      <td>953</td>\n",
              "      <td>5</td>\n",
              "      <td>32</td>\n",
              "      <td>5</td>\n",
              "      <td>0</td>\n",
              "      <td>2</td>\n",
              "      <td>0</td>\n",
              "      <td>1</td>\n",
              "      <td>0</td>\n",
              "    </tr>\n",
              "    <tr>\n",
              "      <th>2</th>\n",
              "      <td>18</td>\n",
              "      <td>4</td>\n",
              "      <td>776</td>\n",
              "      <td>14</td>\n",
              "      <td>126</td>\n",
              "      <td>1</td>\n",
              "      <td>52</td>\n",
              "      <td>0</td>\n",
              "      <td>9</td>\n",
              "      <td>0</td>\n",
              "    </tr>\n",
              "    <tr>\n",
              "      <th>3</th>\n",
              "      <td>18</td>\n",
              "      <td>10</td>\n",
              "      <td>11</td>\n",
              "      <td>897</td>\n",
              "      <td>31</td>\n",
              "      <td>1</td>\n",
              "      <td>26</td>\n",
              "      <td>0</td>\n",
              "      <td>6</td>\n",
              "      <td>0</td>\n",
              "    </tr>\n",
              "    <tr>\n",
              "      <th>4</th>\n",
              "      <td>0</td>\n",
              "      <td>1</td>\n",
              "      <td>118</td>\n",
              "      <td>41</td>\n",
              "      <td>761</td>\n",
              "      <td>0</td>\n",
              "      <td>72</td>\n",
              "      <td>0</td>\n",
              "      <td>7</td>\n",
              "      <td>0</td>\n",
              "    </tr>\n",
              "    <tr>\n",
              "      <th>5</th>\n",
              "      <td>0</td>\n",
              "      <td>0</td>\n",
              "      <td>0</td>\n",
              "      <td>1</td>\n",
              "      <td>0</td>\n",
              "      <td>926</td>\n",
              "      <td>0</td>\n",
              "      <td>51</td>\n",
              "      <td>4</td>\n",
              "      <td>18</td>\n",
              "    </tr>\n",
              "    <tr>\n",
              "      <th>6</th>\n",
              "      <td>134</td>\n",
              "      <td>2</td>\n",
              "      <td>124</td>\n",
              "      <td>63</td>\n",
              "      <td>106</td>\n",
              "      <td>1</td>\n",
              "      <td>539</td>\n",
              "      <td>0</td>\n",
              "      <td>31</td>\n",
              "      <td>0</td>\n",
              "    </tr>\n",
              "    <tr>\n",
              "      <th>7</th>\n",
              "      <td>0</td>\n",
              "      <td>0</td>\n",
              "      <td>0</td>\n",
              "      <td>0</td>\n",
              "      <td>0</td>\n",
              "      <td>34</td>\n",
              "      <td>0</td>\n",
              "      <td>929</td>\n",
              "      <td>0</td>\n",
              "      <td>37</td>\n",
              "    </tr>\n",
              "    <tr>\n",
              "      <th>8</th>\n",
              "      <td>0</td>\n",
              "      <td>1</td>\n",
              "      <td>10</td>\n",
              "      <td>10</td>\n",
              "      <td>4</td>\n",
              "      <td>6</td>\n",
              "      <td>12</td>\n",
              "      <td>5</td>\n",
              "      <td>952</td>\n",
              "      <td>0</td>\n",
              "    </tr>\n",
              "    <tr>\n",
              "      <th>9</th>\n",
              "      <td>0</td>\n",
              "      <td>0</td>\n",
              "      <td>0</td>\n",
              "      <td>0</td>\n",
              "      <td>0</td>\n",
              "      <td>13</td>\n",
              "      <td>0</td>\n",
              "      <td>50</td>\n",
              "      <td>1</td>\n",
              "      <td>936</td>\n",
              "    </tr>\n",
              "  </tbody>\n",
              "</table>\n",
              "</div>\n",
              "    <div class=\"colab-df-buttons\">\n",
              "\n",
              "  <div class=\"colab-df-container\">\n",
              "    <button class=\"colab-df-convert\" onclick=\"convertToInteractive('df-3c10981d-0650-40c2-9c1b-4509ff0e7f0e')\"\n",
              "            title=\"Convert this dataframe to an interactive table.\"\n",
              "            style=\"display:none;\">\n",
              "\n",
              "  <svg xmlns=\"http://www.w3.org/2000/svg\" height=\"24px\" viewBox=\"0 -960 960 960\">\n",
              "    <path d=\"M120-120v-720h720v720H120Zm60-500h600v-160H180v160Zm220 220h160v-160H400v160Zm0 220h160v-160H400v160ZM180-400h160v-160H180v160Zm440 0h160v-160H620v160ZM180-180h160v-160H180v160Zm440 0h160v-160H620v160Z\"/>\n",
              "  </svg>\n",
              "    </button>\n",
              "\n",
              "  <style>\n",
              "    .colab-df-container {\n",
              "      display:flex;\n",
              "      gap: 12px;\n",
              "    }\n",
              "\n",
              "    .colab-df-convert {\n",
              "      background-color: #E8F0FE;\n",
              "      border: none;\n",
              "      border-radius: 50%;\n",
              "      cursor: pointer;\n",
              "      display: none;\n",
              "      fill: #1967D2;\n",
              "      height: 32px;\n",
              "      padding: 0 0 0 0;\n",
              "      width: 32px;\n",
              "    }\n",
              "\n",
              "    .colab-df-convert:hover {\n",
              "      background-color: #E2EBFA;\n",
              "      box-shadow: 0px 1px 2px rgba(60, 64, 67, 0.3), 0px 1px 3px 1px rgba(60, 64, 67, 0.15);\n",
              "      fill: #174EA6;\n",
              "    }\n",
              "\n",
              "    .colab-df-buttons div {\n",
              "      margin-bottom: 4px;\n",
              "    }\n",
              "\n",
              "    [theme=dark] .colab-df-convert {\n",
              "      background-color: #3B4455;\n",
              "      fill: #D2E3FC;\n",
              "    }\n",
              "\n",
              "    [theme=dark] .colab-df-convert:hover {\n",
              "      background-color: #434B5C;\n",
              "      box-shadow: 0px 1px 3px 1px rgba(0, 0, 0, 0.15);\n",
              "      filter: drop-shadow(0px 1px 2px rgba(0, 0, 0, 0.3));\n",
              "      fill: #FFFFFF;\n",
              "    }\n",
              "  </style>\n",
              "\n",
              "    <script>\n",
              "      const buttonEl =\n",
              "        document.querySelector('#df-3c10981d-0650-40c2-9c1b-4509ff0e7f0e button.colab-df-convert');\n",
              "      buttonEl.style.display =\n",
              "        google.colab.kernel.accessAllowed ? 'block' : 'none';\n",
              "\n",
              "      async function convertToInteractive(key) {\n",
              "        const element = document.querySelector('#df-3c10981d-0650-40c2-9c1b-4509ff0e7f0e');\n",
              "        const dataTable =\n",
              "          await google.colab.kernel.invokeFunction('convertToInteractive',\n",
              "                                                    [key], {});\n",
              "        if (!dataTable) return;\n",
              "\n",
              "        const docLinkHtml = 'Like what you see? Visit the ' +\n",
              "          '<a target=\"_blank\" href=https://colab.research.google.com/notebooks/data_table.ipynb>data table notebook</a>'\n",
              "          + ' to learn more about interactive tables.';\n",
              "        element.innerHTML = '';\n",
              "        dataTable['output_type'] = 'display_data';\n",
              "        await google.colab.output.renderOutput(dataTable, element);\n",
              "        const docLink = document.createElement('div');\n",
              "        docLink.innerHTML = docLinkHtml;\n",
              "        element.appendChild(docLink);\n",
              "      }\n",
              "    </script>\n",
              "  </div>\n",
              "\n",
              "\n",
              "<div id=\"df-1e64c494-f9ee-4667-a53f-c4b96ea35fe3\">\n",
              "  <button class=\"colab-df-quickchart\" onclick=\"quickchart('df-1e64c494-f9ee-4667-a53f-c4b96ea35fe3')\"\n",
              "            title=\"Suggest charts\"\n",
              "            style=\"display:none;\">\n",
              "\n",
              "<svg xmlns=\"http://www.w3.org/2000/svg\" height=\"24px\"viewBox=\"0 0 24 24\"\n",
              "     width=\"24px\">\n",
              "    <g>\n",
              "        <path d=\"M19 3H5c-1.1 0-2 .9-2 2v14c0 1.1.9 2 2 2h14c1.1 0 2-.9 2-2V5c0-1.1-.9-2-2-2zM9 17H7v-7h2v7zm4 0h-2V7h2v10zm4 0h-2v-4h2v4z\"/>\n",
              "    </g>\n",
              "</svg>\n",
              "  </button>\n",
              "\n",
              "<style>\n",
              "  .colab-df-quickchart {\n",
              "      --bg-color: #E8F0FE;\n",
              "      --fill-color: #1967D2;\n",
              "      --hover-bg-color: #E2EBFA;\n",
              "      --hover-fill-color: #174EA6;\n",
              "      --disabled-fill-color: #AAA;\n",
              "      --disabled-bg-color: #DDD;\n",
              "  }\n",
              "\n",
              "  [theme=dark] .colab-df-quickchart {\n",
              "      --bg-color: #3B4455;\n",
              "      --fill-color: #D2E3FC;\n",
              "      --hover-bg-color: #434B5C;\n",
              "      --hover-fill-color: #FFFFFF;\n",
              "      --disabled-bg-color: #3B4455;\n",
              "      --disabled-fill-color: #666;\n",
              "  }\n",
              "\n",
              "  .colab-df-quickchart {\n",
              "    background-color: var(--bg-color);\n",
              "    border: none;\n",
              "    border-radius: 50%;\n",
              "    cursor: pointer;\n",
              "    display: none;\n",
              "    fill: var(--fill-color);\n",
              "    height: 32px;\n",
              "    padding: 0;\n",
              "    width: 32px;\n",
              "  }\n",
              "\n",
              "  .colab-df-quickchart:hover {\n",
              "    background-color: var(--hover-bg-color);\n",
              "    box-shadow: 0 1px 2px rgba(60, 64, 67, 0.3), 0 1px 3px 1px rgba(60, 64, 67, 0.15);\n",
              "    fill: var(--button-hover-fill-color);\n",
              "  }\n",
              "\n",
              "  .colab-df-quickchart-complete:disabled,\n",
              "  .colab-df-quickchart-complete:disabled:hover {\n",
              "    background-color: var(--disabled-bg-color);\n",
              "    fill: var(--disabled-fill-color);\n",
              "    box-shadow: none;\n",
              "  }\n",
              "\n",
              "  .colab-df-spinner {\n",
              "    border: 2px solid var(--fill-color);\n",
              "    border-color: transparent;\n",
              "    border-bottom-color: var(--fill-color);\n",
              "    animation:\n",
              "      spin 1s steps(1) infinite;\n",
              "  }\n",
              "\n",
              "  @keyframes spin {\n",
              "    0% {\n",
              "      border-color: transparent;\n",
              "      border-bottom-color: var(--fill-color);\n",
              "      border-left-color: var(--fill-color);\n",
              "    }\n",
              "    20% {\n",
              "      border-color: transparent;\n",
              "      border-left-color: var(--fill-color);\n",
              "      border-top-color: var(--fill-color);\n",
              "    }\n",
              "    30% {\n",
              "      border-color: transparent;\n",
              "      border-left-color: var(--fill-color);\n",
              "      border-top-color: var(--fill-color);\n",
              "      border-right-color: var(--fill-color);\n",
              "    }\n",
              "    40% {\n",
              "      border-color: transparent;\n",
              "      border-right-color: var(--fill-color);\n",
              "      border-top-color: var(--fill-color);\n",
              "    }\n",
              "    60% {\n",
              "      border-color: transparent;\n",
              "      border-right-color: var(--fill-color);\n",
              "    }\n",
              "    80% {\n",
              "      border-color: transparent;\n",
              "      border-right-color: var(--fill-color);\n",
              "      border-bottom-color: var(--fill-color);\n",
              "    }\n",
              "    90% {\n",
              "      border-color: transparent;\n",
              "      border-bottom-color: var(--fill-color);\n",
              "    }\n",
              "  }\n",
              "</style>\n",
              "\n",
              "  <script>\n",
              "    async function quickchart(key) {\n",
              "      const quickchartButtonEl =\n",
              "        document.querySelector('#' + key + ' button');\n",
              "      quickchartButtonEl.disabled = true;  // To prevent multiple clicks.\n",
              "      quickchartButtonEl.classList.add('colab-df-spinner');\n",
              "      try {\n",
              "        const charts = await google.colab.kernel.invokeFunction(\n",
              "            'suggestCharts', [key], {});\n",
              "      } catch (error) {\n",
              "        console.error('Error during call to suggestCharts:', error);\n",
              "      }\n",
              "      quickchartButtonEl.classList.remove('colab-df-spinner');\n",
              "      quickchartButtonEl.classList.add('colab-df-quickchart-complete');\n",
              "    }\n",
              "    (() => {\n",
              "      let quickchartButtonEl =\n",
              "        document.querySelector('#df-1e64c494-f9ee-4667-a53f-c4b96ea35fe3 button');\n",
              "      quickchartButtonEl.style.display =\n",
              "        google.colab.kernel.accessAllowed ? 'block' : 'none';\n",
              "    })();\n",
              "  </script>\n",
              "</div>\n",
              "\n",
              "    </div>\n",
              "  </div>\n"
            ],
            "application/vnd.google.colaboratory.intrinsic+json": {
              "type": "dataframe",
              "summary": "{\n  \"name\": \"pd\",\n  \"rows\": 10,\n  \"fields\": [\n    {\n      \"column\": 0,\n      \"properties\": {\n        \"dtype\": \"number\",\n        \"std\": 250,\n        \"min\": 0,\n        \"max\": 801,\n        \"num_unique_values\": 5,\n        \"samples\": [\n          2,\n          134,\n          18\n        ],\n        \"semantic_type\": \"\",\n        \"description\": \"\"\n      }\n    },\n    {\n      \"column\": 1,\n      \"properties\": {\n        \"dtype\": \"number\",\n        \"std\": 300,\n        \"min\": 0,\n        \"max\": 953,\n        \"num_unique_values\": 6,\n        \"samples\": [\n          2,\n          953,\n          0\n        ],\n        \"semantic_type\": \"\",\n        \"description\": \"\"\n      }\n    },\n    {\n      \"column\": 2,\n      \"properties\": {\n        \"dtype\": \"number\",\n        \"std\": 240,\n        \"min\": 0,\n        \"max\": 776,\n        \"num_unique_values\": 8,\n        \"samples\": [\n          5,\n          0,\n          16\n        ],\n        \"semantic_type\": \"\",\n        \"description\": \"\"\n      }\n    },\n    {\n      \"column\": 3,\n      \"properties\": {\n        \"dtype\": \"number\",\n        \"std\": 276,\n        \"min\": 0,\n        \"max\": 897,\n        \"num_unique_values\": 9,\n        \"samples\": [\n          0,\n          32,\n          1\n        ],\n        \"semantic_type\": \"\",\n        \"description\": \"\"\n      }\n    },\n    {\n      \"column\": 4,\n      \"properties\": {\n        \"dtype\": \"number\",\n        \"std\": 235,\n        \"min\": 0,\n        \"max\": 761,\n        \"num_unique_values\": 8,\n        \"samples\": [\n          5,\n          0,\n          7\n        ],\n        \"semantic_type\": \"\",\n        \"description\": \"\"\n      }\n    },\n    {\n      \"column\": 5,\n      \"properties\": {\n        \"dtype\": \"number\",\n        \"std\": 290,\n        \"min\": 0,\n        \"max\": 926,\n        \"num_unique_values\": 7,\n        \"samples\": [\n          5,\n          0,\n          6\n        ],\n        \"semantic_type\": \"\",\n        \"description\": \"\"\n      }\n    },\n    {\n      \"column\": 6,\n      \"properties\": {\n        \"dtype\": \"number\",\n        \"std\": 164,\n        \"min\": 0,\n        \"max\": 539,\n        \"num_unique_values\": 8,\n        \"samples\": [\n          2,\n          0,\n          86\n        ],\n        \"semantic_type\": \"\",\n        \"description\": \"\"\n      }\n    },\n    {\n      \"column\": 7,\n      \"properties\": {\n        \"dtype\": \"number\",\n        \"std\": 290,\n        \"min\": 0,\n        \"max\": 929,\n        \"num_unique_values\": 5,\n        \"samples\": [\n          51,\n          50,\n          929\n        ],\n        \"semantic_type\": \"\",\n        \"description\": \"\"\n      }\n    },\n    {\n      \"column\": 8,\n      \"properties\": {\n        \"dtype\": \"number\",\n        \"std\": 298,\n        \"min\": 0,\n        \"max\": 952,\n        \"num_unique_values\": 9,\n        \"samples\": [\n          0,\n          1,\n          4\n        ],\n        \"semantic_type\": \"\",\n        \"description\": \"\"\n      }\n    },\n    {\n      \"column\": 9,\n      \"properties\": {\n        \"dtype\": \"number\",\n        \"std\": 294,\n        \"min\": 0,\n        \"max\": 936,\n        \"num_unique_values\": 4,\n        \"samples\": [\n          18,\n          936,\n          0\n        ],\n        \"semantic_type\": \"\",\n        \"description\": \"\"\n      }\n    }\n  ]\n}"
            }
          },
          "metadata": {},
          "execution_count": 75
        }
      ]
    },
    {
      "cell_type": "code",
      "source": [
        "# Conclusion shirts are getting confused with tshirts and Sandals with Shoes"
      ],
      "metadata": {
        "id": "lrOqt57Cyc1_"
      },
      "execution_count": null,
      "outputs": []
    }
  ]
}